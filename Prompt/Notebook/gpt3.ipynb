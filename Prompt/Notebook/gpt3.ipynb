{
 "cells": [
  {
   "cell_type": "code",
   "execution_count": null,
   "id": "0d56647e",
   "metadata": {},
   "outputs": [],
   "source": [
    "# !pip3 install openai"
   ]
  },
  {
   "cell_type": "code",
   "execution_count": 2,
   "id": "6eeb1896",
   "metadata": {},
   "outputs": [],
   "source": [
    "import os\n",
    "import openai\n",
    "from subprocess import Popen"
   ]
  },
  {
   "cell_type": "code",
   "execution_count": 17,
   "id": "c289c59b",
   "metadata": {},
   "outputs": [],
   "source": [
    "def read_file(path):\n",
    "    with open(path, 'r', encoding = 'utf-8') as file:\n",
    "        return file.read()\n",
    "def write_file(path, content, mode):\n",
    "    with open(path, mode, encoding = 'utf-8') as file:\n",
    "        file.writelines(content)\n",
    "        file.close()"
   ]
  },
  {
   "cell_type": "code",
   "execution_count": 18,
   "id": "cf536a07",
   "metadata": {},
   "outputs": [],
   "source": [
    "openai.api_key= read_file('apikey.txt')\n",
    "\n",
    "def gpt3(prompt):\n",
    "    response = openai.Completion.create(\n",
    "      model=\"text-curie-001\",\n",
    "      prompt= prompt,\n",
    "      temperature=0.7,\n",
    "      max_tokens=64,\n",
    "      top_p=1,\n",
    "      frequency_penalty=0,\n",
    "      presence_penalty=0\n",
    "    )\n",
    "    res = response['choices'][0]['text'].strip()\n",
    "    return res"
   ]
  },
  {
   "cell_type": "code",
   "execution_count": 20,
   "id": "575f61f1",
   "metadata": {},
   "outputs": [
    {
     "name": "stdout",
     "output_type": "stream",
     "text": [
      "Comment ça va?\n",
      "¿Cómo estás?\n",
      "好啊，怎麼樣?\n"
     ]
    }
   ],
   "source": [
    "prompt = read_file('prompt.txt')\n",
    "pmt = prompt.split(\"\\n\")\n",
    "for i in range(len(prompt.split(\"\\n\"))):\n",
    "    response = gpt3(pmt[i])\n",
    "    print(response)\n",
    "    response = response + \"\\n\"\n",
    "    if i == 0:\n",
    "        write_file('response.txt', response, \"w\")\n",
    "    else:\n",
    "        write_file('response.txt', response, \"a\")\n"
   ]
  },
  {
   "cell_type": "code",
   "execution_count": 7,
   "id": "94a886f6",
   "metadata": {},
   "outputs": [],
   "source": []
  }
 ],
 "metadata": {
  "kernelspec": {
   "display_name": "Python 3 (ipykernel)",
   "language": "python",
   "name": "python3"
  },
  "language_info": {
   "codemirror_mode": {
    "name": "ipython",
    "version": 3
   },
   "file_extension": ".py",
   "mimetype": "text/x-python",
   "name": "python",
   "nbconvert_exporter": "python",
   "pygments_lexer": "ipython3",
   "version": "3.9.7"
  }
 },
 "nbformat": 4,
 "nbformat_minor": 5
}
