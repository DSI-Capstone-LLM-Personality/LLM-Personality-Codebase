{
 "cells": [
  {
   "cell_type": "code",
   "execution_count": 1,
   "id": "71ff4863",
   "metadata": {},
   "outputs": [],
   "source": [
    "import numpy as np"
   ]
  },
  {
   "cell_type": "code",
   "execution_count": 20,
   "id": "20be9d8d",
   "metadata": {},
   "outputs": [
    {
     "data": {
      "text/plain": [
       "array([[0.2737603 , 0.67452657, 0.41388448, 0.60336532, 0.98070273],\n",
       "       [0.37742015, 0.83964318, 0.2847229 , 0.03338115, 0.93472429],\n",
       "       [0.49923642, 0.12204691, 0.57502628, 0.02553776, 0.20864262]])"
      ]
     },
     "execution_count": 20,
     "metadata": {},
     "output_type": "execute_result"
    }
   ],
   "source": [
    "n = 3  #questions 120/998\n",
    "k = 5  #options\n",
    "\n",
    "prob_array = np.zeros((n, k))\n",
    "\n",
    "for i in range(n):\n",
    "    for j in range(k):\n",
    "        prob_array[i,j] = np.random.random()\n",
    "\n",
    "prob_array"
   ]
  },
  {
   "cell_type": "code",
   "execution_count": 16,
   "id": "1188147e",
   "metadata": {},
   "outputs": [],
   "source": [
    "def entropy(arr):\n",
    "        '''\n",
    "        Given an array of probabilities, calculate the entropy.\n",
    "        '''\n",
    "        return -sum(arr * np.log(arr))"
   ]
  },
  {
   "cell_type": "code",
   "execution_count": 17,
   "id": "9809523c",
   "metadata": {},
   "outputs": [],
   "source": [
    "# H(Y)\n",
    "row_means = np.mean(prob_array, axis=1)\n",
    "\n",
    "marginal_entropy = entropy(row_means) "
   ]
  },
  {
   "cell_type": "code",
   "execution_count": 18,
   "id": "bc285277",
   "metadata": {},
   "outputs": [],
   "source": [
    "# H(Y|f(x))\n",
    "conditional_entropy = entropy(prob_array)\n",
    "conditional_entropy = np.mean(conditional_entropy)"
   ]
  },
  {
   "cell_type": "code",
   "execution_count": 19,
   "id": "447d9646",
   "metadata": {},
   "outputs": [
    {
     "data": {
      "text/plain": [
       "0.268250776400063"
      ]
     },
     "execution_count": 19,
     "metadata": {},
     "output_type": "execute_result"
    }
   ],
   "source": [
    "MI = marginal_entropy - conditional_entropy\n",
    "MI"
   ]
  },
  {
   "cell_type": "code",
   "execution_count": null,
   "id": "89c864f6",
   "metadata": {},
   "outputs": [],
   "source": []
  }
 ],
 "metadata": {
  "kernelspec": {
   "display_name": "Python 3 (ipykernel)",
   "language": "python",
   "name": "python3"
  },
  "language_info": {
   "codemirror_mode": {
    "name": "ipython",
    "version": 3
   },
   "file_extension": ".py",
   "mimetype": "text/x-python",
   "name": "python",
   "nbconvert_exporter": "python",
   "pygments_lexer": "ipython3",
   "version": "3.9.7"
  }
 },
 "nbformat": 4,
 "nbformat_minor": 5
}
