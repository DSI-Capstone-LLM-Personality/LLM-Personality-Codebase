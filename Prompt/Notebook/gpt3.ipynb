{
 "cells": [
  {
   "cell_type": "code",
   "execution_count": 1,
   "id": "0d56647e",
   "metadata": {},
   "outputs": [
    {
     "name": "stdout",
     "output_type": "stream",
     "text": [
      "Collecting openai\n",
      "  Downloading openai-0.26.5.tar.gz (55 kB)\n",
      "\u001b[K     |████████████████████████████████| 55 kB 1.1 MB/s eta 0:00:011\n",
      "\u001b[?25h  Installing build dependencies ... \u001b[?25ldone\n",
      "\u001b[?25h  Getting requirements to build wheel ... \u001b[?25ldone\n",
      "\u001b[?25h  Installing backend dependencies ... \u001b[?25ldone\n",
      "\u001b[?25h    Preparing wheel metadata ... \u001b[?25ldone\n",
      "\u001b[?25hRequirement already satisfied: requests>=2.20 in /Users/tree/opt/anaconda3/lib/python3.9/site-packages (from openai) (2.26.0)\n",
      "Requirement already satisfied: tqdm in /Users/tree/opt/anaconda3/lib/python3.9/site-packages (from openai) (4.62.3)\n",
      "Collecting aiohttp\n",
      "  Downloading aiohttp-3.8.3-cp39-cp39-macosx_10_9_x86_64.whl (360 kB)\n",
      "\u001b[K     |████████████████████████████████| 360 kB 2.9 MB/s eta 0:00:01\n",
      "\u001b[?25hRequirement already satisfied: idna<4,>=2.5 in /Users/tree/opt/anaconda3/lib/python3.9/site-packages (from requests>=2.20->openai) (3.4)\n",
      "Requirement already satisfied: charset-normalizer~=2.0.0 in /Users/tree/opt/anaconda3/lib/python3.9/site-packages (from requests>=2.20->openai) (2.0.4)\n",
      "Requirement already satisfied: certifi>=2017.4.17 in /Users/tree/opt/anaconda3/lib/python3.9/site-packages (from requests>=2.20->openai) (2021.10.8)\n",
      "Requirement already satisfied: urllib3<1.27,>=1.21.1 in /Users/tree/opt/anaconda3/lib/python3.9/site-packages (from requests>=2.20->openai) (1.26.7)\n",
      "Requirement already satisfied: async-timeout<5.0,>=4.0.0a3 in /Users/tree/opt/anaconda3/lib/python3.9/site-packages (from aiohttp->openai) (4.0.2)\n",
      "Collecting yarl<2.0,>=1.0\n",
      "  Downloading yarl-1.8.2-cp39-cp39-macosx_10_9_x86_64.whl (61 kB)\n",
      "\u001b[K     |████████████████████████████████| 61 kB 1.7 MB/s eta 0:00:01\n",
      "\u001b[?25hCollecting multidict<7.0,>=4.5\n",
      "  Downloading multidict-6.0.4-cp39-cp39-macosx_10_9_x86_64.whl (29 kB)\n",
      "Collecting frozenlist>=1.1.1\n",
      "  Downloading frozenlist-1.3.3-cp39-cp39-macosx_10_9_x86_64.whl (36 kB)\n",
      "Collecting aiosignal>=1.1.2\n",
      "  Downloading aiosignal-1.3.1-py3-none-any.whl (7.6 kB)\n",
      "Requirement already satisfied: attrs>=17.3.0 in /Users/tree/opt/anaconda3/lib/python3.9/site-packages (from aiohttp->openai) (21.2.0)\n",
      "Building wheels for collected packages: openai\n",
      "  Building wheel for openai (PEP 517) ... \u001b[?25ldone\n",
      "\u001b[?25h  Created wheel for openai: filename=openai-0.26.5-py3-none-any.whl size=67596 sha256=94c9315016af5fc7c643fd744e147941247a7d2fa38a787f17b54d11f306b426\n",
      "  Stored in directory: /Users/tree/Library/Caches/pip/wheels/6b/f6/a3/b6f128b03291d3b9c9b70b45ed4cb5ca32021aa4905b67c761\n",
      "Successfully built openai\n",
      "Installing collected packages: multidict, frozenlist, yarl, aiosignal, aiohttp, openai\n",
      "Successfully installed aiohttp-3.8.3 aiosignal-1.3.1 frozenlist-1.3.3 multidict-6.0.4 openai-0.26.5 yarl-1.8.2\n"
     ]
    }
   ],
   "source": [
    "# !pip3 install openai"
   ]
  },
  {
   "cell_type": "code",
   "execution_count": 2,
   "id": "6eeb1896",
   "metadata": {},
   "outputs": [],
   "source": [
    "import os\n",
    "import openai\n",
    "from subprocess import Popen"
   ]
  },
  {
   "cell_type": "code",
   "execution_count": 17,
   "id": "c289c59b",
   "metadata": {},
   "outputs": [],
   "source": [
    "def read_file(path):\n",
    "    with open(path, 'r', encoding = 'utf-8') as file:\n",
    "        return file.read()\n",
    "def write_file(path, content, mode):\n",
    "    with open(path, mode, encoding = 'utf-8') as file:\n",
    "        file.writelines(content)\n",
    "        file.close()"
   ]
  },
  {
   "cell_type": "code",
   "execution_count": 18,
   "id": "cf536a07",
   "metadata": {},
   "outputs": [],
   "source": [
    "openai.api_key= read_file('apikey.txt')\n",
    "\n",
    "def gpt3(prompt):\n",
    "    response = openai.Completion.create(\n",
    "      model=\"text-curie-001\",\n",
    "      prompt= prompt,\n",
    "      temperature=0.7,\n",
    "      max_tokens=64,\n",
    "      top_p=1,\n",
    "      frequency_penalty=0,\n",
    "      presence_penalty=0\n",
    "    )\n",
    "    res = response['choices'][0]['text'].strip()\n",
    "    return res"
   ]
  },
  {
   "cell_type": "code",
   "execution_count": 20,
   "id": "575f61f1",
   "metadata": {},
   "outputs": [
    {
     "name": "stdout",
     "output_type": "stream",
     "text": [
      "Comment ça va?\n",
      "¿Cómo estás?\n",
      "好啊，怎麼樣?\n"
     ]
    }
   ],
   "source": [
    "prompt = read_file('prompt.txt')\n",
    "pmt = prompt.split(\"\\n\")\n",
    "for i in range(len(prompt.split(\"\\n\"))):\n",
    "    response = gpt3(pmt[i])\n",
    "    print(response)\n",
    "    response = response + \"\\n\"\n",
    "    if i == 0:\n",
    "        write_file('response.txt', response, \"w\")\n",
    "    else:\n",
    "        write_file('response.txt', response, \"a\")\n"
   ]
  },
  {
   "cell_type": "code",
   "execution_count": 7,
   "id": "94a886f6",
   "metadata": {},
   "outputs": [],
   "source": []
  }
 ],
 "metadata": {
  "kernelspec": {
   "display_name": "Python 3 (ipykernel)",
   "language": "python",
   "name": "python3"
  },
  "language_info": {
   "codemirror_mode": {
    "name": "ipython",
    "version": 3
   },
   "file_extension": ".py",
   "mimetype": "text/x-python",
   "name": "python",
   "nbconvert_exporter": "python",
   "pygments_lexer": "ipython3",
   "version": "3.9.7"
  }
 },
 "nbformat": 4,
 "nbformat_minor": 5
}
