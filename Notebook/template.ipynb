{
 "cells": [
  {
   "cell_type": "code",
   "execution_count": 1,
   "metadata": {},
   "outputs": [],
   "source": [
    "# ----------------------- #\n",
    "# NOTEBOOK MPI EXPERIMENT #\n",
    "# AUTHOR: XIAOYANG SONG   #\n",
    "# ----------------------- #\n",
    "%load_ext autoreload\n",
    "%autoreload 2"
   ]
  },
  {
   "cell_type": "code",
   "execution_count": 6,
   "metadata": {},
   "outputs": [],
   "source": [
    "import sys\n",
    "import pandas as pd\n",
    "from matplotlib import pyplot as plt\n",
    "from tabulate import tabulate\n",
    "sys.path.append('../')\n",
    "# sys.path.append('')\n",
    "from MPI.mpi import *"
   ]
  },
  {
   "cell_type": "code",
   "execution_count": 24,
   "metadata": {},
   "outputs": [],
   "source": [
    "models = ['opt-125m', 'opt-350m', 'opt-1.3b', 'opt-2.7b', 'opt-6.7b', 'opt-13b', 'opt-30b']\n",
    "# models = ['gpt2', 'gpt2-medium', 'gpt2-large', 'gpt2-xl', 'gpt-neo-125m', 'gpt-neo-1.3b', 'gpt-neo-2.7b', 'gpt-neox-20b']\n",
    "dir = '../checkpoint/mpis/Constraint/template-selection/'\n",
    "# Config\n",
    "# ans_type = \"desc\"\n",
    "ans_type='index'\n",
    "# tmp_type = \"non-index\"\n",
    "tmp_type='index'"
   ]
  },
  {
   "cell_type": "code",
   "execution_count": 25,
   "metadata": {},
   "outputs": [],
   "source": [
    "# Plot config\n",
    "# marker_lst = ['s', '^', '+', 'o', 'D', 'v']\n",
    "color_lst = ['#4053d3', '#ddb310', '#00beff', '#fb49b0' ,'#00b25d', 'gray', 'darkred']\n",
    "marker_lst = ['s', '^', '+', 'o', 'D', 'v', 'x', '<']\n",
    "# color_lst = ['#4053d3', '#ddb310', '#00beff', '#fb49b0' ,'#00b25d', 'gray', 'black', 'darkred']"
   ]
  },
  {
   "cell_type": "code",
   "execution_count": 35,
   "metadata": {},
   "outputs": [],
   "source": [
    "for idx, model in enumerate(models):\n",
    "    fname = f\"{dir}{model}/{tmp_type}/{ans_type}/scores.csv\"\n",
    "    df = pd.read_csv(fname)\n",
    "    score = df['Scores']\n",
    "    plt.plot(np.arange(1, 37, 1), score, marker=marker_lst[idx], color=color_lst[idx],  markersize=2, label=model.upper())\n",
    "    # plt.legend()\n",
    "    # plt.ylim(bottom=0.0, top=0.010)\n",
    "    plt.ylim(bottom=0.0, top=0.0025)\n",
    "\n",
    "plt.grid(color='black', linestyle='-', linewidth=0.10)\n",
    "    # plt.show()\n",
    "plt.legend()\n",
    "plt.xlabel(\"Rank\")\n",
    "plt.ylabel(\"Mutual Information Scores\")\n",
    "# plt.title(\"Template Score vs. Rank - [GPT Models]\")\n",
    "plt.title(\"Template Score vs. Rank - [OPT Models]\")\n",
    "# plt.show()\n",
    "# plt.savefig(\"../template/OPT.jpg\", dpi=1000)\n",
    "plt.savefig(\"../template/OPT-Indexed.jpg\", dpi=1000)\n",
    "# plt.savefig(\"../template/GPT.jpg\", dpi=1000)\n",
    "# plt.savefig(\"../template/GPT-Indexed.jpg\", dpi=1000)\n",
    "plt.close()"
   ]
  }
 ],
 "metadata": {
  "kernelspec": {
   "display_name": "Python 3",
   "language": "python",
   "name": "python3"
  },
  "language_info": {
   "codemirror_mode": {
    "name": "ipython",
    "version": 3
   },
   "file_extension": ".py",
   "mimetype": "text/x-python",
   "name": "python",
   "nbconvert_exporter": "python",
   "pygments_lexer": "ipython3",
   "version": "3.9.7"
  },
  "orig_nbformat": 4
 },
 "nbformat": 4,
 "nbformat_minor": 2
}
