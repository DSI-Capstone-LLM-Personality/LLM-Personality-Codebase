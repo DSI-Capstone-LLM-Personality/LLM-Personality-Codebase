{
 "cells": [
  {
   "attachments": {},
   "cell_type": "markdown",
   "metadata": {},
   "source": [
    "### Setup"
   ]
  },
  {
   "cell_type": "code",
   "execution_count": 142,
   "metadata": {},
   "outputs": [
    {
     "name": "stdout",
     "output_type": "stream",
     "text": [
      "The autoreload extension is already loaded. To reload it, use:\n",
      "  %reload_ext autoreload\n"
     ]
    }
   ],
   "source": [
    "# ----------------------- #\n",
    "# NOTEBOOK MPI EXPERIMENT #\n",
    "# AUTHOR: XIAOYANG SONG   #\n",
    "# ----------------------- #\n",
    "%load_ext autoreload\n",
    "%autoreload 2"
   ]
  },
  {
   "attachments": {},
   "cell_type": "markdown",
   "metadata": {},
   "source": [
    "Note that on MacBook, these downloaded models will be stored in `User/username/.cache/huggingface/hub/`. To remove, go to that directory and then `rm -r {model-name}`."
   ]
  },
  {
   "cell_type": "code",
   "execution_count": 1,
   "metadata": {},
   "outputs": [],
   "source": [
    "import sys\n",
    "from tabulate import tabulate\n",
    "sys.path.append('../')\n",
    "sys.path.append('')\n",
    "from MPI.mpi import *"
   ]
  },
  {
   "attachments": {},
   "cell_type": "markdown",
   "metadata": {},
   "source": [
    "### BERT"
   ]
  },
  {
   "cell_type": "code",
   "execution_count": 2,
   "metadata": {},
   "outputs": [
    {
     "name": "stderr",
     "output_type": "stream",
     "text": [
      "Some weights of the model checkpoint at roberta-base were not used when initializing RobertaModel: ['lm_head.dense.weight', 'lm_head.layer_norm.bias', 'lm_head.dense.bias', 'lm_head.layer_norm.weight', 'lm_head.bias', 'lm_head.decoder.weight']\n",
      "- This IS expected if you are initializing RobertaModel from the checkpoint of a model trained on another task or with another architecture (e.g. initializing a BertForSequenceClassification model from a BertForPreTraining model).\n",
      "- This IS NOT expected if you are initializing RobertaModel from the checkpoint of a model that you expect to be exactly identical (initializing a BertForSequenceClassification model from a BertForSequenceClassification model).\n"
     ]
    }
   ],
   "source": [
    "from transformers import AutoTokenizer, RobertaModel\n",
    "import torch\n",
    "\n",
    "tokenizer = AutoTokenizer.from_pretrained(\"roberta-base\")\n",
    "model = RobertaModel.from_pretrained(\"roberta-base\")\n",
    "\n",
    "inputs = tokenizer(\"Hello, my dog is cute\", return_tensors=\"pt\")\n",
    "outputs = model(**inputs)\n",
    "\n",
    "last_hidden_states = outputs.last_hidden_state"
   ]
  },
  {
   "cell_type": "code",
   "execution_count": 21,
   "metadata": {},
   "outputs": [
    {
     "name": "stderr",
     "output_type": "stream",
     "text": [
      "ic| outputs.last_hidden_state.shape: torch.Size([1, 8, 768])\n"
     ]
    },
    {
     "data": {
      "text/plain": [
       "torch.Size([1, 8, 768])"
      ]
     },
     "execution_count": 21,
     "metadata": {},
     "output_type": "execute_result"
    }
   ],
   "source": [
    "ic(outputs.last_hidden_state.shape)"
   ]
  },
  {
   "cell_type": "code",
   "execution_count": 49,
   "metadata": {},
   "outputs": [
    {
     "name": "stderr",
     "output_type": "stream",
     "text": [
      "If you want to use `BertLMHeadModel` as a standalone, add `is_decoder=True.`\n",
      "Some weights of the model checkpoint at bert-base-uncased were not used when initializing BertLMHeadModel: ['cls.seq_relationship.weight', 'cls.seq_relationship.bias']\n",
      "- This IS expected if you are initializing BertLMHeadModel from the checkpoint of a model trained on another task or with another architecture (e.g. initializing a BertForSequenceClassification model from a BertForPreTraining model).\n",
      "- This IS NOT expected if you are initializing BertLMHeadModel from the checkpoint of a model that you expect to be exactly identical (initializing a BertForSequenceClassification model from a BertForSequenceClassification model).\n",
      "ic| inputs: {'attention_mask': tensor([[1, 1, 1, 1, 1, 1, 1, 1, 1, 1, 1, 1, 1, 1, 1, 1, 1, 1, 1, 1, 1, 1, 1, 1,\n",
      "                     1, 1, 1, 1, 1, 1, 1, 1, 1, 1, 1, 1, 1, 1, 1, 1, 1, 1, 1, 1, 1, 1, 1, 1]]),\n",
      "             'input_ids': tensor([[  101,  2445,  1037,  4861,  1997,  2017,  1024,  1000,  2017,  4737,\n",
      "                      2055,  2477,  1012,  1000,  3531,  5454,  3599,  2028,  2013,  1996,\n",
      "                      2206,  7047,  2000,  6709,  2129, 14125,  2023,  4861,  5577,  2017,\n",
      "                      1012,  7047,  1024,  2200,  8321, 17844,  8321,  4445,  8321,  4496,\n",
      "                     24949, 17844, 24949,  2200, 24949,  6998,  1024,   102]]),\n",
      "             'token_type_ids': tensor([[0, 0, 0, 0, 0, 0, 0, 0, 0, 0, 0, 0, 0, 0, 0, 0, 0, 0, 0, 0, 0, 0, 0, 0,\n",
      "                     0, 0, 0, 0, 0, 0, 0, 0, 0, 0, 0, 0, 0, 0, 0, 0, 0, 0, 0, 0, 0, 0, 0, 0]])}\n",
      "ic| inputs.input_ids.shape: torch.Size([1, 48])\n",
      "ic| tokenizer.decode(inputs.input_ids[0][-8:-1]): 'inaccurate moderately inaccurate very inaccurate answers :'\n"
     ]
    }
   ],
   "source": [
    "from transformers import AutoTokenizer, RobertaForCausalLM, AutoConfig, AlbertForPreTraining\n",
    "import torch\n",
    "\n",
    "tokenizer = AutoTokenizer.from_pretrained(\"bert-base-uncased\")\n",
    "# tokenizer = AutoTokenizer.from_pretrained(\"roberta-base\")\n",
    "# tokenizer = AutoTokenizer.from_pretrained(\"albert-base-v2\")\n",
    "# config = AutoConfig.from_pretrained(\"roberta-base\")\n",
    "# config.is_decoder = False\n",
    "# config.is_decoder=True\n",
    "\n",
    "model = BertLMHeadModel.from_pretrained(\"bert-base-uncased\")\n",
    "# model = RobertaForCausalLM.from_pretrained(\"roberta-base\")\n",
    "# model = AlbertForPreTraining.from_pretrained(\"albert-base-v2\")\n",
    "\n",
    "item = \"worry about things\"\n",
    "eg_q = MPI_TEMPLATE.format(item=item, template=MPI_PROMPT_EXACT) + ordered_lst_to_str(MPI_DESC)\n",
    "inputs = tokenizer(eg_q, return_tensors=\"pt\")\n",
    "# ic(len(choice.input_ids[0,1:-1]))\n",
    "# ic(tokenizer.decode(choice.input_ids[0]))\n",
    "# ic(tokenizer.decode(choice.input_ids[0][1:-1]))\n",
    "# inputs = tokenizer(\"Hello, my dog is cute, I love dog\", return_tensors=\"pt\")\n",
    "ic(inputs)\n",
    "ic(inputs.input_ids.shape)\n",
    "ic(tokenizer.decode(inputs.input_ids[0][-8:-1]))\n",
    "outputs = model(**inputs)\n",
    "prediction_logits = outputs.logits\n",
    "# prediction_logits = outputs.prediction_logits"
   ]
  },
  {
   "cell_type": "code",
   "execution_count": null,
   "metadata": {},
   "outputs": [],
   "source": [
    "for item in inputs.input_ids[0]:\n",
    "    ic(tokenizer.decode(item))"
   ]
  },
  {
   "cell_type": "code",
   "execution_count": 51,
   "metadata": {},
   "outputs": [
    {
     "name": "stderr",
     "output_type": "stream",
     "text": [
      "ic| prediction_logits.squeeze().shape: torch.Size([48, 30522])\n",
      "ic| inputs.input_ids[0].shape: torch.Size([48])\n",
      "ic| prob.shape: torch.Size([48, 30522])\n",
      "ic| masked_prob.shape: torch.Size([48])\n",
      "ic| masked_prob: tensor([6.8377e-07, 3.5591e-04, 9.9979e-01, 9.9838e-01, 9.9969e-01, 9.9081e-01,\n",
      "                         9.9981e-01, 1.0000e+00, 9.9798e-01, 9.6764e-01, 9.4483e-01, 9.9553e-01,\n",
      "                         9.9999e-01, 1.0000e+00, 9.8293e-01, 9.6974e-01, 9.2508e-01, 9.9995e-01,\n",
      "                         1.3080e-04, 9.9953e-01, 9.9817e-01, 9.9400e-01, 9.9994e-01, 8.1662e-01,\n",
      "                         1.0000e+00, 9.9145e-01, 9.9157e-01, 9.9888e-01, 9.7285e-01, 9.9891e-01,\n",
      "                         9.9999e-01, 9.9114e-01, 1.0000e+00, 9.7876e-01, 8.7856e-01, 8.1290e-01,\n",
      "                         9.5235e-01, 9.9554e-01, 9.4846e-01, 9.9537e-01, 9.1612e-01, 7.6658e-01,\n",
      "                         9.3284e-01, 9.5950e-01, 9.3008e-01, 9.8506e-01, 9.9947e-01, 4.1430e-10],\n",
      "                        grad_fn=<IndexBackward0>)\n",
      "ic| idx: tensor([ 1012,  1012,  1037,  4861,  1997,  2017,  1024,  1000,  2017,  4737,\n",
      "                  2055,  2477,  1012,  1000,  3531,  5454,  3599,  2028,  1997,  1996,\n",
      "                  2206,  7047,  2000,  6709,  2129, 14125,  2023,  4861,  5577,  2017,\n",
      "                  1012,  7047,  1024,  2200,  8321, 17844,  8321,  4445,  8321,  4496,\n",
      "                 24949, 17844, 24949,  2200, 24949,  6998,  1024,  1012])\n",
      "ic| tokenizer.decode(idx): ('.. a statement of you : \" you worry about things. \" please choose exactly '\n",
      "                            'one of the following options to identify how accurately this statement '\n",
      "                            'describes you. options : very accurate moderately accurate neither accurate '\n",
      "                            'nor inaccurate moderately inaccurate very inaccurate answers :.')\n"
     ]
    },
    {
     "data": {
      "text/plain": [
       "'.. a statement of you : \" you worry about things. \" please choose exactly one of the following options to identify how accurately this statement describes you. options : very accurate moderately accurate neither accurate nor inaccurate moderately inaccurate very inaccurate answers :.'"
      ]
     },
     "execution_count": 51,
     "metadata": {},
     "output_type": "execute_result"
    }
   ],
   "source": [
    "ic(prediction_logits.squeeze().shape)\n",
    "ic(inputs.input_ids[0].shape)\n",
    "prob = torch.softmax(prediction_logits.squeeze(), dim=-1)\n",
    "ic(prob.shape)\n",
    "masked_prob = prob[np.arange(inputs.input_ids[0].shape[0]), inputs.input_ids[0]]\n",
    "ic(masked_prob.shape)\n",
    "ic(masked_prob)\n",
    "idx = torch.max(prob, dim=-1)[1]\n",
    "ic(idx)\n",
    "ic(tokenizer.decode(idx))"
   ]
  },
  {
   "cell_type": "code",
   "execution_count": 52,
   "metadata": {},
   "outputs": [
    {
     "name": "stderr",
     "output_type": "stream",
     "text": [
      "ic| eg.shape: torch.Size([30522])\n",
      "ic| tokenizer.decode([idx]): '.'\n"
     ]
    },
    {
     "data": {
      "text/plain": [
       "'.'"
      ]
     },
     "execution_count": 52,
     "metadata": {},
     "output_type": "execute_result"
    },
    {
     "data": {
      "image/png": "[encoded data removed]",
      "text/plain": [
       "<Figure size 432x288 with 1 Axes>"
      ]
     },
     "metadata": {
      "needs_background": "light"
     },
     "output_type": "display_data"
    }
   ],
   "source": [
    "eg = prob[1]\n",
    "ic(eg.shape)\n",
    "plt.plot(np.arange(len(eg)), eg.detach().cpu())\n",
    "idx = torch.argmax(eg)\n",
    "ic(tokenizer.decode([idx]))"
   ]
  },
  {
   "attachments": {},
   "cell_type": "markdown",
   "metadata": {},
   "source": [
    "### GPT (Constraint)"
   ]
  },
  {
   "cell_type": "code",
   "execution_count": 144,
   "metadata": {},
   "outputs": [],
   "source": [
    "from transformers import OpenAIGPTTokenizer, OpenAIGPTLMHeadModel\n",
    "from transformers import GPT2Tokenizer, GPT2LMHeadModel\n",
    "import numpy as np\n",
    "from icecream import ic\n",
    "import torch"
   ]
  },
  {
   "cell_type": "code",
   "execution_count": 145,
   "metadata": {},
   "outputs": [
    {
     "name": "stderr",
     "output_type": "stream",
     "text": [
      "ic| len(choice.input_ids[0,:]): 8\n",
      "ic| tokenizer.decode(choice.input_ids[0]): '</s>(A). Very Inaccurate'\n",
      "ic| tokenizer.decode(choice.input_ids[0]): '</s>(A). Very Inaccurate'\n",
      "ic| inputs: {'attention_mask': tensor([[1, 1, 1, 1, 1, 1, 1, 1, 1, 1, 1, 1, 1, 1, 1, 1, 1, 1, 1, 1, 1, 1, 1, 1,\n",
      "                     1, 1, 1, 1, 1, 1, 1, 1, 1, 1, 1, 1, 1, 1, 1, 1, 1, 1, 1, 1, 1, 1, 1, 1,\n",
      "                     1, 1, 1, 1, 1, 1, 1, 1, 1, 1, 1, 1, 1, 1, 1, 1, 1, 1, 1, 1, 1]]),\n",
      "             'input_ids': tensor([[ 6211,    10,   445,     9,    47,     6,    47,  4022,    59,   383,\n",
      "                         6,    99,   109,    47,   206,    35,  1437, 50118, 25101,  5438,\n",
      "                     23412,  1437, 50118, 38451,  7223,  5438, 23412,  1437,  1437,  1437,\n",
      "                      1437,  1437,  1437,  1437,  1437,  1437,  1437, 50118, 39254,  5438,\n",
      "                     23412,  6567,    96,  7904, 23412,  1437, 50118, 38451,  7223,    96,\n",
      "                      7904, 23412,  1437, 50118, 12178,    96,  7904, 23412,  1437, 50118,\n",
      "                     31652,    35,  9081,  5438, 23412,  6567,    96,  7904, 23412]])}\n",
      "ic| tokenizer.decode(inputs.input_ids[0][-7:]): ' Neither Accurate Nor Inaccurate'\n",
      "ic| prediction_logits.shape: torch.Size([1, 69, 50272])\n"
     ]
    }
   ],
   "source": [
    "with torch.no_grad():\n",
    "#     tokenizer = GPT2Tokenizer.from_pretrained('gpt2')\n",
    "#     model = GPT2LMHeadModel.from_pretrained('gpt2')\n",
    "    # tokenizer = OpenAIGPTTokenizer.from_pretrained('openai-gpt')\n",
    "    # model = OpenAIGPTLMHeadModel.from_pretrained('openai-gpt')\n",
    "    from transformers import AutoTokenizer, OPTForCausalLM, GPTNeoXTokenizerFast\n",
    "\n",
    "    model = OPTForCausalLM.from_pretrained(\"facebook/opt-125m\")\n",
    "    tokenizer = AutoTokenizer.from_pretrained(\"facebook/opt-125m\")\n",
    "    # tokenizer = GPTNeoXTokenizerFast.from_pretrained(\"gpt2\")\n",
    "    item = \"worry about things\"\n",
    "    # eg_q = MPI_TEMPLATE.format(item=item, template=MPI_PROMPT_EXACT) + ordered_lst_to_str(MPI_DESC)\n",
    "    eg_q = \" Given a statement of you, you worry about things, what do you think: \\nVery Accurate \\n Moderately Accurate\\\n",
    "          \\nNeither Accurate Nor Inaccurate \\n Moderately Inaccurate \\n Very Inaccurate \\n Answer: Neither Accurate Nor Inaccurate\"\n",
    "    inputs = tokenizer(eg_q, return_tensors=\"pt\", add_special_tokens=False)\n",
    "    choice = tokenizer(\"(A). Very Inaccurate\", return_tensors='pt')\n",
    "    ic(len(choice.input_ids[0,:]))\n",
    "    ic(tokenizer.decode(choice.input_ids[0]))\n",
    "    ic(tokenizer.decode(choice.input_ids[0]))\n",
    "    # inputs = tokenizer(\"Hello, my dog is cute, I love dog\", return_tensors=\"pt\")\n",
    "    ic(inputs)\n",
    "    ic(tokenizer.decode(inputs.input_ids[0][-7:]))\n",
    "    outputs = model(**inputs, labels=inputs.input_ids)\n",
    "\n",
    "    prediction_logits = outputs.logits\n",
    "    ic(prediction_logits.shape)"
   ]
  },
  {
   "cell_type": "code",
   "execution_count": 148,
   "metadata": {},
   "outputs": [
    {
     "name": "stdout",
     "output_type": "stream",
     "text": [
      "69\n"
     ]
    },
    {
     "data": {
      "text/plain": [
       "('Nor', [tensor(6567)])"
      ]
     },
     "execution_count": 148,
     "metadata": {},
     "output_type": "execute_result"
    }
   ],
   "source": [
    "def find_critical_word(tokenizer, encoded_seq):\n",
    "    '''gives the tokenization of the last word in the sequence'''\n",
    "\n",
    "    critical_word = ''\n",
    "    tokens_indices = []#tokenized indices of the sequence\n",
    "\n",
    "    for token in torch.flip(encoded_seq[0], dims=(0,)):\n",
    "        token_string = tokenizer.convert_ids_to_tokens([token])[0]\n",
    "        tokens_indices.insert(0, token)\n",
    "        if 'Ġ' in token_string:\n",
    "            critical_word = token_string[1:] + critical_word\n",
    "            break\n",
    "        else:\n",
    "            critical_word = token_string + critical_word\n",
    "\n",
    "    return critical_word, tokens_indices\n",
    "print(len(inputs.input_ids[0]))\n",
    "find_critical_word(tokenizer, inputs.input_ids)\n",
    "find_critical_word(tokenizer, inputs.input_ids[:,:-3])"
   ]
  },
  {
   "cell_type": "code",
   "execution_count": 149,
   "metadata": {},
   "outputs": [],
   "source": [
    "from model.language_model import find_critical_phrase\n",
    "toi = find_critical_phrase(tokenizer, inputs.input_ids, \"Neither Accurate Nor Inaccurate\")"
   ]
  },
  {
   "cell_type": "code",
   "execution_count": 150,
   "metadata": {},
   "outputs": [
    {
     "name": "stderr",
     "output_type": "stream",
     "text": [
      "ic| toi: [tensor(9081),\n",
      "          tensor(5438),\n",
      "          tensor(23412),\n",
      "          tensor(6567),\n",
      "          tensor(96),\n",
      "          tensor(7904),\n",
      "          tensor(23412)]\n",
      "ic| len(toi): 7\n"
     ]
    },
    {
     "data": {
      "text/plain": [
       "' Neither Accurate Nor Inaccurate'"
      ]
     },
     "execution_count": 150,
     "metadata": {},
     "output_type": "execute_result"
    }
   ],
   "source": [
    "ic(toi)\n",
    "ic(len(toi))\n",
    "tokenizer.decode(toi)"
   ]
  },
  {
   "cell_type": "code",
   "execution_count": 141,
   "metadata": {},
   "outputs": [
    {
     "data": {
      "text/plain": [
       "' Given'"
      ]
     },
     "execution_count": 141,
     "metadata": {},
     "output_type": "execute_result"
    }
   ],
   "source": [
    "tokenizer.decode([11259])"
   ]
  },
  {
   "cell_type": "code",
   "execution_count": 56,
   "metadata": {},
   "outputs": [],
   "source": [
    "probs = torch.softmax(prediction_logits, dim=-1)"
   ]
  },
  {
   "cell_type": "code",
   "execution_count": 58,
   "metadata": {},
   "outputs": [
    {
     "data": {
      "text/plain": [
       "tensor([[-1.2605e+01, -8.6148e+00, -7.2170e+00, -9.2804e+00, -7.7124e+00,\n",
       "         -9.4323e+00, -9.5413e+00, -1.5722e+01, -1.2558e+01, -8.0769e+00,\n",
       "         -8.5154e+00, -8.7695e+00, -8.0322e-03, -1.1713e+01, -1.0143e+01,\n",
       "         -6.6645e+00, -6.5709e+00, -7.7643e+00, -8.5234e+00, -8.1259e+00,\n",
       "         -9.7503e+00, -8.9154e+00, -1.2273e+01, -9.5984e+00, -1.0543e+01,\n",
       "         -1.0452e+01, -1.0183e+01, -1.3269e+01, -9.5586e+00, -1.0391e+01,\n",
       "         -4.4546e+00, -1.4454e+01, -7.4719e+00, -5.5233e+00, -7.7713e+00,\n",
       "         -8.5504e+00, -1.5832e+01, -1.6264e+01, -2.9881e+00, -7.5690e+00,\n",
       "         -1.3130e+01, -1.3089e+01, -1.8006e+01, -2.0978e+01, -1.6619e+01,\n",
       "         -3.8818e+00, -8.6653e+00, -1.5502e+01, -1.8874e+01, -1.6678e+01,\n",
       "         -8.2146e+00, -1.2291e+01, -1.5442e+01, -1.7172e+01, -4.3043e+00,\n",
       "         -9.1362e+00, -1.7086e+01, -1.6256e+01, -1.8770e+01, -1.5819e+01,\n",
       "         -1.3015e+01, -1.7177e+01, -3.5357e+00, -8.5808e+00, -1.1716e+01,\n",
       "         -1.5697e+01, -1.3735e+01, -1.7101e+01, -3.8403e+00, -8.2599e+00,\n",
       "         -1.0196e+01, -1.0607e+01, -1.3587e+01, -8.1694e+00, -4.2287e+00]])"
      ]
     },
     "execution_count": 58,
     "metadata": {},
     "output_type": "execute_result"
    }
   ],
   "source": [
    "torch.log(probs[0][np.arange(75), inputs.input_ids])"
   ]
  },
  {
   "cell_type": "code",
   "execution_count": 46,
   "metadata": {},
   "outputs": [
    {
     "name": "stdout",
     "output_type": "stream",
     "text": [
      "torch.Size([1, 75, 50257])\n",
      "tensor([0.0910, 0.0164, 0.2488, 0.0884, 0.0787, 0.1725, 0.1949, 0.1479, 0.5004,\n",
      "        0.1284, 0.2469, 0.2123, 0.9920, 0.0959, 0.1381, 0.5110, 0.3272, 0.4288,\n",
      "        0.7103, 0.5654, 0.4188, 0.0474, 0.2349, 0.4183, 0.5692, 0.1481, 0.4616,\n",
      "        0.3661, 0.4033, 0.4302, 0.0685, 0.3258, 0.2984, 0.4649, 0.0446, 0.0496,\n",
      "        0.9918, 0.1945, 0.2685, 0.0558, 0.3687, 0.7395, 0.9289, 0.9997, 0.7438,\n",
      "        0.7605, 0.0372, 0.4855, 0.9976, 0.6723, 0.6461, 0.9215, 0.9986, 0.5815,\n",
      "        0.8307, 0.0418, 0.9208, 0.9870, 0.7116, 0.9987, 0.9979, 0.5649, 0.7430,\n",
      "        0.0722, 0.7366, 0.9976, 0.9996, 0.5846, 0.7948, 0.1239, 0.1914, 0.2328,\n",
      "        0.3354, 0.2692, 0.7966])\n",
      "tensor([  262,  1178,   588,  1109,   290,   198,    40,   389,   546,   262,\n",
      "          588,   198,   198,   836,   534,   644,   286,   262,  1351,  1351,\n",
      "           25,  1037,   534,   345,   345,  2643,   318,   345,    13,   198,\n",
      "         1639,   352,   198,  1849,  1639, 28511, 15537,   198,   198,  1639,\n",
      "        21620,  1286,  6366, 15537,   220,   198, 16371,  6366, 15537,  4249,\n",
      "         6366,  4134, 15537,   220,   198,  1639,   263,  1286,  6366,  4134,\n",
      "        15537,   220,   198,  5841,  6366,  4134, 15537,   220,   198,  5841,\n",
      "         5841,  6366,    25,   220,   198])\n",
      " the few like fact and\n",
      "I are about the like\n",
      "\n",
      " don your what of the list list: help your you you statement is you.\n",
      "You 1\n",
      " You Importanturate\n",
      "\n",
      "Youerateately Accurate \n",
      "Very Accurate nor Accaccurate \n",
      "Youerately Accaccurate \n",
      "Mod Accaccurate \n",
      "ModMod Acc: \n",
      "\n"
     ]
    }
   ],
   "source": [
    "probs = torch.softmax(prediction_logits, dim=-1)\n",
    "print(probs.shape)\n",
    "print(torch.max(probs, dim=-1)[0].squeeze())\n",
    "idxs = torch.max(probs, dim=-1)[1].squeeze()\n",
    "print(idxs)\n",
    "print(tokenizer.decode(idxs))"
   ]
  },
  {
   "cell_type": "code",
   "execution_count": 24,
   "metadata": {},
   "outputs": [
    {
     "name": "stderr",
     "output_type": "stream",
     "text": [
      "ic| eg.shape: torch.Size([50257])\n"
     ]
    },
    {
     "name": "stdout",
     "output_type": "stream",
     "text": [
      "Hello Hello World.\n",
      "Answer: (A). Very Inaccurate\n"
     ]
    },
    {
     "name": "stderr",
     "output_type": "stream",
     "text": [
      "ic| idx: tensor(11)\n",
      "ic| tokenizer.decode([idx]): ','\n"
     ]
    },
    {
     "data": {
      "text/plain": [
       "','"
      ]
     },
     "execution_count": 24,
     "metadata": {},
     "output_type": "execute_result"
    },
    {
     "data": {
      "image/png": "[encoded data removed]",
      "text/plain": [
       "<Figure size 432x288 with 1 Axes>"
      ]
     },
     "metadata": {
      "needs_background": "light"
     },
     "output_type": "display_data"
    }
   ],
   "source": [
    "from matplotlib import pyplot as plt\n",
    "print(\"Hello Hello World.\\nAnswer: (A). Very Inaccurate\")\n",
    "eg = probs[0][0]\n",
    "ic(eg.shape)\n",
    "plt.plot(np.arange(len(eg)), eg.detach().cpu())\n",
    "idx = torch.argmax(eg)\n",
    "ic(idx)\n",
    "ic(tokenizer.decode([idx]))"
   ]
  },
  {
   "cell_type": "code",
   "execution_count": 61,
   "metadata": {},
   "outputs": [
    {
     "name": "stderr",
     "output_type": "stream",
     "text": [
      "ic| -loss: tensor(-3.9902, grad_fn=<NegBackward0>)\n",
      "ic| logits.shape: torch.Size([1, 6, 50257])\n"
     ]
    },
    {
     "data": {
      "text/plain": [
       "torch.Size([1, 6, 50257])"
      ]
     },
     "execution_count": 61,
     "metadata": {},
     "output_type": "execute_result"
    }
   ],
   "source": [
    "import torch\n",
    "from transformers import AutoTokenizer, GPT2LMHeadModel\n",
    "\n",
    "tokenizer = AutoTokenizer.from_pretrained(\"gpt2\")\n",
    "model = GPT2LMHeadModel.from_pretrained(\"gpt2\")\n",
    "\n",
    "inputs = tokenizer(\"Hello, my dog is cute\", return_tensors=\"pt\")\n",
    "outputs = model(**inputs, labels=inputs[\"input_ids\"])\n",
    "loss = outputs.loss\n",
    "logits = outputs.logits\n",
    "ic(-loss)\n",
    "ic(logits.shape)"
   ]
  },
  {
   "cell_type": "code",
   "execution_count": 67,
   "metadata": {},
   "outputs": [
    {
     "name": "stderr",
     "output_type": "stream",
     "text": [
      "ic| logits.shape: torch.Size([1, 6, 50257])\n",
      "ic| probs.shape: torch.Size([6])\n",
      "ic| torch.sum(torch.log(probs)): tensor(-53.3722, grad_fn=<SumBackward0>)\n",
      "ic| idxs: tensor([  11,  314, 1438,  318,  257,   13])\n"
     ]
    },
    {
     "name": "stdout",
     "output_type": "stream",
     "text": [
      ", I name is a.\n",
      "Hello, my dog is cute\n"
     ]
    }
   ],
   "source": [
    "ic(logits.shape)\n",
    "idxs = torch.argmax(logits.squeeze(), dim=-1)\n",
    "probs = torch.softmax(logits.squeeze(), dim=-1)[np.arange(6), inputs.input_ids[0]]\n",
    "ic(probs.shape)\n",
    "ic(torch.sum(torch.log(probs)))\n",
    "ic(idxs)\n",
    "print(tokenizer.decode(idxs))\n",
    "print(tokenizer.decode(inputs.input_ids[0]))"
   ]
  },
  {
   "attachments": {},
   "cell_type": "markdown",
   "metadata": {},
   "source": [
    "### GPT (Open Vocab)"
   ]
  },
  {
   "attachments": {},
   "cell_type": "markdown",
   "metadata": {},
   "source": [
    "#### GPT-2"
   ]
  },
  {
   "cell_type": "code",
   "execution_count": null,
   "metadata": {},
   "outputs": [],
   "source": [
    "from Model.language_model import *\n",
    "from Model.template import *\n",
    "# version = 'gpt2'\n",
    "version = 'gpt2-large'\n",
    "tokenizer = TOKENIZER['GPT2'].from_pretrained(version)\n",
    "model = MODEL['Open-Vocab']['GPT2'].from_pretrained(version)\n",
    "# model = GPTNeoXForCausalLM.from_pretrained(\"EleutherAI/gpt-neox-20b\")\n",
    "                                           \n",
    "with torch.no_grad():\n",
    "    # Text completion\n",
    "    item = \"worry about things\"\n",
    "    eg_q = MPI_TEMPLATE.format(item=item, template=MPI_PROMPT_EXACT) + ordered_lst_to_str(MPI_DESC)\n",
    "    # # print(eg_q)\n",
    "    inputs = tokenizer(eg_q, return_tensors='pt')\n",
    "    input_ids = inputs.input_ids\n",
    "    response = model.generate(input_ids, do_sample=True, top_p=0.95, temperature=0.1,\n",
    "                                    num_return_sequences=1, early_stopping=True, max_new_tokens=70)\n",
    "    output = tokenizer.decode(response[0])\n",
    "print(output)\n",
    "print(len(response[0]))"
   ]
  },
  {
   "cell_type": "code",
   "execution_count": null,
   "metadata": {},
   "outputs": [],
   "source": [
    "import transformers\n",
    "from transformers import pipeline, set_seed\n",
    "item = \"worry about things\"\n",
    "eg_q = MPI_TEMPLATE.format(item=item, template=MPI_PROMPT_EXACT) + ordered_lst_to_str(MPI_DESC)\n",
    "generator = pipeline('text-generation', model='gpt2-large')\n",
    "transformers.set_seed(42)\n",
    "print(generator(eg_q, max_length=200, top_p = 0.95, temperature=0.10, num_return_sequences=1)[0]['generated_text'])"
   ]
  },
  {
   "attachments": {},
   "cell_type": "markdown",
   "metadata": {},
   "source": [
    "#### GPT2-NEO"
   ]
  },
  {
   "cell_type": "code",
   "execution_count": null,
   "metadata": {},
   "outputs": [],
   "source": [
    "from transformers import GPTNeoXForCausalLM, GPTNeoXTokenizerFast, AutoTokenizer\n",
    "model = GPTNeoXForCausalLM.from_pretrained(\"EleutherAI/gpt-neox-20b\")\n",
    "tokenizer = AutoTokenizer.from_pretrained(\"EleutherAI/gpt-neox-20b\")\n",
    "\n",
    "with torch.no_grad():\n",
    "    # Text completion\n",
    "    item = \"worry about things\"\n",
    "    eg_q = MPI_TEMPLATE.format(item=item, template=MPI_PROMPT_EXACT) + ordered_lst_to_str(MPI_DESC)\n",
    "    # print(eg_q)\n",
    "    inputs = tokenizer(eg_q, return_tensors='pt')\n",
    "    input_ids = inputs.input_ids\n",
    "    response = model.generate(input_ids,top_p=0.95, temperature=0.1,\n",
    "                                   max_new_tokens=70)\n",
    "    output = tokenizer.decode(response[0])\n",
    "print(output)\n",
    "print(len(response[0]))\n"
   ]
  },
  {
   "attachments": {},
   "cell_type": "markdown",
   "metadata": {},
   "source": [
    "#### GPT-3\n",
    "\n",
    "API reference: [Check this website out!](https://platform.openai.com/docs/api-reference/completions/create)"
   ]
  },
  {
   "cell_type": "code",
   "execution_count": null,
   "metadata": {},
   "outputs": [],
   "source": []
  },
  {
   "cell_type": "code",
   "execution_count": 11,
   "metadata": {},
   "outputs": [
    {
     "data": {
      "text/plain": [
       "<Model model id=text-davinci-002 at 0x7fbb7c5f9310> JSON: {\n",
       "  \"created\": 1649880484,\n",
       "  \"id\": \"text-davinci-002\",\n",
       "  \"object\": \"model\",\n",
       "  \"owned_by\": \"openai\",\n",
       "  \"parent\": null,\n",
       "  \"permission\": [\n",
       "    {\n",
       "      \"allow_create_engine\": false,\n",
       "      \"allow_fine_tuning\": false,\n",
       "      \"allow_logprobs\": true,\n",
       "      \"allow_sampling\": true,\n",
       "      \"allow_search_indices\": false,\n",
       "      \"allow_view\": true,\n",
       "      \"created\": 1679355287,\n",
       "      \"group\": null,\n",
       "      \"id\": \"modelperm-l4EU6QlN1HcS0so0jU16kyg8\",\n",
       "      \"is_blocking\": false,\n",
       "      \"object\": \"model_permission\",\n",
       "      \"organization\": \"*\"\n",
       "    }\n",
       "  ],\n",
       "  \"root\": \"text-davinci-002\"\n",
       "}"
      ]
     },
     "execution_count": 11,
     "metadata": {},
     "output_type": "execute_result"
    }
   ],
   "source": [
    "import os\n",
    "import openai\n",
    "openai.api_key = read_api_key(\"../../\", 'kiyan')\n",
    "openai.Model.retrieve(\"text-davinci-002\")"
   ]
  },
  {
   "cell_type": "code",
   "execution_count": 14,
   "metadata": {},
   "outputs": [
    {
     "name": "stdout",
     "output_type": "stream",
     "text": [
      "{\n",
      "  \"text_offset\": [\n",
      "    0,\n",
      "    3,\n",
      "    7,\n",
      "    9,\n",
      "    17,\n",
      "    24,\n",
      "    25,\n",
      "    26,\n",
      "    27,\n",
      "    30,\n",
      "    31,\n",
      "    33,\n",
      "    36,\n",
      "    38,\n",
      "    46,\n",
      "    53\n",
      "  ],\n",
      "  \"token_logprobs\": [\n",
      "    null,\n",
      "    -0.5484283,\n",
      "    -2.3484318,\n",
      "    -11.56091,\n",
      "    -0.3344945,\n",
      "    -0.09188025,\n",
      "    -0.0015265809,\n",
      "    -1.9621319e-05,\n",
      "    -0.4918428,\n",
      "    -0.11833226,\n",
      "    -0.002766698,\n",
      "    -0.967397,\n",
      "    -0.5009338,\n",
      "    -0.04270428,\n",
      "    -1.843017e-05,\n",
      "    -0.0022791522\n",
      "  ],\n",
      "  \"tokens\": [\n",
      "    \"Are\",\n",
      "    \" you\",\n",
      "    \" a\",\n",
      "    \" helpful\",\n",
      "    \" person\",\n",
      "    \"?\",\n",
      "    \"\\n\",\n",
      "    \"\\n\",\n",
      "    \"Yes\",\n",
      "    \",\",\n",
      "    \" I\",\n",
      "    \" am\",\n",
      "    \" a\",\n",
      "    \" helpful\",\n",
      "    \" person\",\n",
      "    \".\"\n",
      "  ],\n",
      "  \"top_logprobs\": [\n",
      "    null,\n",
      "    {\n",
      "      \" I\": -4.09474,\n",
      "      \" there\": -3.738496,\n",
      "      \" you\": -0.5484283,\n",
      "      \"E\": -3.945342,\n",
      "      \"as\": -2.8397064\n",
      "    },\n",
      "    {\n",
      "      \" a\": -2.3484318,\n",
      "      \" going\": -3.450221,\n",
      "      \" looking\": -2.8057222,\n",
      "      \" ready\": -3.3230975,\n",
      "      \" sure\": -1.8694134\n",
      "    },\n",
      "    {\n",
      "      \" fan\": -2.0240815,\n",
      "      \" good\": -3.8889964,\n",
      "      \" man\": -3.9106426,\n",
      "      \" member\": -3.4057312,\n",
      "      \" student\": -3.8714497\n",
      "    },\n",
      "    {\n",
      "      \" and\": -3.8716815,\n",
      "      \" individual\": -4.2070265,\n",
      "      \" or\": -4.286822,\n",
      "      \" person\": -0.3344945,\n",
      "      \",\": -3.993666\n",
      "    },\n",
      "    {\n",
      "      \"\\n\": -3.3526375,\n",
      "      \" or\": -5.390807,\n",
      "      \",\": -5.2420874,\n",
      "      \"?\": -0.09188025,\n",
      "      \"?\\\"\": -4.2187634\n",
      "    },\n",
      "    {\n",
      "      \"\\n\": -0.0015265809,\n",
      "      \"\\n\\n\": -7.807446,\n",
      "      \" Yes\": -8.35794,\n",
      "      \"I\": -8.156871,\n",
      "      \"Yes\": -8.013374\n",
      "    },\n",
      "    {\n",
      "      \"\\n\": -1.9621319e-05,\n",
      "      \"\\n\\n\": -14.247762,\n",
      "      \"<|endoftext|>\": -13.680687,\n",
      "      \"I\": -12.225112,\n",
      "      \"Yes\": -11.563834\n",
      "    },\n",
      "    {\n",
      "      \"I\": -1.0654407,\n",
      "      \"In\": -5.3569093,\n",
      "      \"Most\": -5.413487,\n",
      "      \"This\": -5.6663046,\n",
      "      \"Yes\": -0.4918428\n",
      "    },\n",
      "    {\n",
      "      \" I\": -6.4746933,\n",
      "      \"!\": -9.12177,\n",
      "      \",\": -0.11833226,\n",
      "      \".\": -3.7328656,\n",
      "      \"<|endoftext|>\": -2.4551957\n",
      "    },\n",
      "    {\n",
      "      \" I\": -0.002766698,\n",
      "      \" generally\": -7.187319,\n",
      "      \" helping\": -8.581952,\n",
      "      \" typically\": -8.334146,\n",
      "      \" usually\": -8.500663\n",
      "    },\n",
      "    {\n",
      "      \" am\": -0.967397,\n",
      "      \" generally\": -3.5827951,\n",
      "      \" like\": -1.542928,\n",
      "      \" try\": -1.5883944,\n",
      "      \"'m\": -3.8627315\n",
      "    },\n",
      "    {\n",
      "      \" a\": -0.5009338,\n",
      "      \" generally\": -3.955027,\n",
      "      \" helpful\": -1.7348043,\n",
      "      \" very\": -3.8509004,\n",
      "      \".\": -2.091243\n",
      "    },\n",
      "    {\n",
      "      \" Helpful\": -8.901643,\n",
      "      \" generally\": -8.727214,\n",
      "      \" helper\": -8.966566,\n",
      "      \" helpful\": -0.04270428,\n",
      "      \" very\": -3.1924405\n",
      "    },\n",
      "    {\n",
      "      \" Person\": -13.586044,\n",
      "      \" and\": -11.410199,\n",
      "      \" per\": -13.268677,\n",
      "      \" pers\": -14.0090475,\n",
      "      \" person\": -1.843017e-05\n",
      "    },\n",
      "    {\n",
      "      \" and\": -6.315359,\n",
      "      \" by\": -9.372658,\n",
      "      \",\": -9.415296,\n",
      "      \".\": -0.0022791522,\n",
      "      \"<|endoftext|>\": -8.821958\n",
      "    }\n",
      "  ]\n",
      "}\n"
     ]
    }
   ],
   "source": [
    "import openai\n",
    "from util.utils import *\n",
    "from icecream import ic\n",
    "set_seed(2023)\n",
    "# Make sure to redirect to the correct path\n",
    "# I don't know why but it shows that Kiyan's api key is not correct.\n",
    "openai.api_key = read_api_key(\"../../\", 'kiyan')\n",
    "# openai.api_key = read_api_key(\"../../\", 'xysong')\n",
    "# eg_q = \"Please use a word to describe yourself.\"\n",
    "item = \"worry about things\"\n",
    "item = \"Are you a helpful person?\"\n",
    "response = openai.Completion.create(engine=\"text-davinci-002\", prompt=item, echo=True, temperature=0.1, max_tokens=100, top_p=0.95, logprobs=5)\n",
    "# print(response['choices'][0]['text'])\n",
    "# print(response.keys())\n",
    "print(response['choices'][0]['logprobs'])"
   ]
  },
  {
   "cell_type": "code",
   "execution_count": 21,
   "metadata": {},
   "outputs": [
    {
     "name": "stdout",
     "output_type": "stream",
     "text": [
      "text_completion\n",
      "1681003755\n",
      "text-davinci-002\n",
      "{\n",
      "  \"completion_tokens\": 7,\n",
      "  \"prompt_tokens\": 75,\n",
      "  \"total_tokens\": 82\n",
      "}\n",
      "1\n",
      "dict_keys(['text', 'index', 'logprobs', 'finish_reason'])\n"
     ]
    }
   ],
   "source": [
    "print(response['object'])\n",
    "print(response['created'])\n",
    "print(response['model'])\n",
    "print(response['usage'])\n",
    "print(len(response['choices']))\n",
    "print(response['choices'][0].keys())"
   ]
  },
  {
   "attachments": {},
   "cell_type": "markdown",
   "metadata": {},
   "source": [
    "#### BART"
   ]
  },
  {
   "cell_type": "code",
   "execution_count": 8,
   "metadata": {},
   "outputs": [
    {
     "name": "stderr",
     "output_type": "stream",
     "text": [
      "ic| len(inputs.input_ids): 1\n",
      "ic| inputs.input_ids: tensor([[    0, 18377,    10,   445,     9,    47,    35,    22,  1185,   370,\n",
      "                                4022,    59,   383,    72, 50118,  6715,  2807,  2230,    65,    31,\n",
      "                                   5,   511,  1735,     7,  3058,   141, 12775,    42,   445,  7448,\n",
      "                                  47,     4, 50118, 47261,    35,  1437, 50118, 25101,  5438, 23412,\n",
      "                                1437, 50118, 30597,   254,  7223,  5438, 23412,  1437, 50118, 39254,\n",
      "                                5438, 23412,  6567,    96,  7904, 23412,  1437, 50118, 30597,   254,\n",
      "                                7223,    96,  7904, 23412,  1437, 50118, 25101,    96,  7904, 23412,\n",
      "                                1437, 50118, 50118,  4688, 48792,    35,  1437,     2]])\n"
     ]
    },
    {
     "name": "stdout",
     "output_type": "stream",
     "text": [
      "</s><s><s>Given a statement of you: \"You You worry about things,\" choose one of the following options to identify how accurately this statement describes you. Options: Very Accurate, Very Inaccurate, Moderately Accurate or Neither Accurate. Answers:  \"You worry aboutThings\" \"Very Accurate\" or \"Very Inaccurately\"</s>\n"
     ]
    }
   ],
   "source": [
    "from transformers import AutoTokenizer, BartForConditionalGeneration\n",
    "model = BartForConditionalGeneration.from_pretrained(\"facebook/bart-large-cnn\")\n",
    "tokenizer = AutoTokenizer.from_pretrained(\"facebook/bart-large-cnn\")\n",
    "item = \"You worry about things\"\n",
    "eg_q = MPI_TEMPLATE.format(item=item, template=MPI_PROMPT_EXACT) + ordered_lst_to_str(MPI_DESC)\n",
    "inputs = tokenizer(eg_q, return_tensors=\"pt\")\n",
    "ic(len(inputs.input_ids))\n",
    "ic(inputs.input_ids)\n",
    "# Generate Summary\n",
    "summary_ids = model.generate(inputs[\"input_ids\"], top_p=0.95,temperature=0.10, max_new_tokens=100)\n",
    "print(tokenizer.decode(summary_ids[0]))\n",
    "# tokenizer.batch_decode(summary_ids, skip_special_tokens=True, clean_up_tokenization_spaces=False)[0]"
   ]
  },
  {
   "cell_type": "code",
   "execution_count": 21,
   "metadata": {},
   "outputs": [],
   "source": [
    "import transformers\n",
    "generator = pipeline('text-generation', model=\"facebook/bart-large-cnn\")\n",
    "# generator = pipeline('text-generation', model=\"gpt2-large\")\n",
    "transformers.set_seed(42)\n",
    "# print(generator(\"Who is Issac Newton?\", max_length=100, top_p = 0.95, temperature=0.10, num_return_sequences=1)[0]['generated_text'])\n",
    "print(generator(\"Who is Issac Newton?\", max_length=100, top_p = 0.95, temperature=0.10, num_return_sequences=1)[0]['generated_text'])"
   ]
  },
  {
   "cell_type": "code",
   "execution_count": 13,
   "metadata": {},
   "outputs": [
    {
     "name": "stdout",
     "output_type": "stream",
     "text": [
      "tensor([], dtype=torch.int64)\n",
      "\n"
     ]
    }
   ],
   "source": [
    "response = summary_ids[0][78:]\n",
    "print(response)\n",
    "answers = tokenizer.decode(response)\n",
    "print(answers)"
   ]
  },
  {
   "attachments": {},
   "cell_type": "markdown",
   "metadata": {},
   "source": [
    "### OPT"
   ]
  },
  {
   "cell_type": "code",
   "execution_count": 16,
   "metadata": {},
   "outputs": [
    {
     "data": {
      "text/plain": [
       "\"Given a statement of you: you make friend easily. What do you think?\\n Very Accurate\\n Moderately Accurate\\nNeither Accurate Nor Inaccurate\\nModerately Inaccurate\\nVery Inaccurate\\nAnswer: \\xa0I don't know. I'm not sure. But I do know that it's a good idea to be honest with yourself about what you're doing. If you have any questions, please feel free to reach out to me.\""
      ]
     },
     "execution_count": 16,
     "metadata": {},
     "output_type": "execute_result"
    }
   ],
   "source": [
    "from transformers import AutoTokenizer, OPTForCausalLM\n",
    "\n",
    "# model = OPTForCausalLM.from_pretrained(\"facebook/opt-350m\")\n",
    "# tokenizer = AutoTokenizer.from_pretrained(\"facebook/opt-350m\")\n",
    "\n",
    "from model.language_model import *\n",
    "from template.templates import *\n",
    "# version = 'gpt2'\n",
    "version = 'gpt2'\n",
    "tokenizer = TOKENIZER['GPT2'].from_pretrained(version)\n",
    "model = MODEL['Open-Vocab']['GPT2'].from_pretrained(version, pad_token_id=tokenizer.eos_token_id)\n",
    "\n",
    "# prompt = \"Hey, are you consciours? Can you talk to me?\"\n",
    "prompt = \"Given a statement of you: you make friend easily. What do you think?\\n Very Accurate\\n Moderately Accurate\\nNeither Accurate Nor Inaccurate\\nModerately Inaccurate\\nVery Inaccurate\\nAnswer: \"\n",
    "\n",
    "inputs = tokenizer(prompt, return_tensors=\"pt\")\n",
    "\n",
    "# Generate\n",
    "generate_ids = model.generate(inputs.input_ids, max_new_tokens=80,num_beams = 5, \n",
    "    no_repeat_ngram_size = 2, \n",
    "    num_return_sequences = 5, \n",
    "    early_stopping = True)\n",
    "tokenizer.batch_decode(generate_ids, skip_special_tokens=True, clean_up_tokenization_spaces=False)[0]"
   ]
  }
 ],
 "metadata": {
  "interpreter": {
   "hash": "aee8b7b246df8f9039afb4144a1f6fd8d2ca17a180786b69acc140d282b71a49"
  },
  "kernelspec": {
   "display_name": "Python 3 (ipykernel)",
   "language": "python",
   "name": "python3"
  },
  "language_info": {
   "codemirror_mode": {
    "name": "ipython",
    "version": 3
   },
   "file_extension": ".py",
   "mimetype": "text/x-python",
   "name": "python",
   "nbconvert_exporter": "python",
   "pygments_lexer": "ipython3",
   "version": "3.9.7"
  }
 },
 "nbformat": 4,
 "nbformat_minor": 2
}
