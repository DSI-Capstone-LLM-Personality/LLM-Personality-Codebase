{
 "cells": [
  {
   "cell_type": "markdown",
   "metadata": {},
   "source": [
    "### Setup"
   ]
  },
  {
   "cell_type": "code",
   "execution_count": 1,
   "metadata": {},
   "outputs": [],
   "source": [
    "# ----------------------- #\n",
    "# NOTEBOOK MPI EXPERIMENT #\n",
    "# AUTHOR: XIAOYANG SONG   #\n",
    "# ----------------------- #\n",
    "%load_ext autoreload\n",
    "%autoreload 2"
   ]
  },
  {
   "cell_type": "code",
   "execution_count": 8,
   "metadata": {},
   "outputs": [],
   "source": [
    "import sys\n",
    "from tabulate import tabulate\n",
    "sys.path.append('../../')\n",
    "from MPI.mpi import *"
   ]
  },
  {
   "cell_type": "markdown",
   "metadata": {},
   "source": [
    "### BERT"
   ]
  },
  {
   "cell_type": "code",
   "execution_count": 2,
   "metadata": {},
   "outputs": [
    {
     "name": "stderr",
     "output_type": "stream",
     "text": [
      "Some weights of the model checkpoint at roberta-base were not used when initializing RobertaModel: ['lm_head.dense.weight', 'lm_head.layer_norm.bias', 'lm_head.dense.bias', 'lm_head.layer_norm.weight', 'lm_head.bias', 'lm_head.decoder.weight']\n",
      "- This IS expected if you are initializing RobertaModel from the checkpoint of a model trained on another task or with another architecture (e.g. initializing a BertForSequenceClassification model from a BertForPreTraining model).\n",
      "- This IS NOT expected if you are initializing RobertaModel from the checkpoint of a model that you expect to be exactly identical (initializing a BertForSequenceClassification model from a BertForSequenceClassification model).\n"
     ]
    }
   ],
   "source": [
    "from transformers import AutoTokenizer, RobertaModel\n",
    "import torch\n",
    "\n",
    "tokenizer = AutoTokenizer.from_pretrained(\"roberta-base\")\n",
    "model = RobertaModel.from_pretrained(\"roberta-base\")\n",
    "\n",
    "inputs = tokenizer(\"Hello, my dog is cute\", return_tensors=\"pt\")\n",
    "outputs = model(**inputs)\n",
    "\n",
    "last_hidden_states = outputs.last_hidden_state"
   ]
  },
  {
   "cell_type": "code",
   "execution_count": 21,
   "metadata": {},
   "outputs": [
    {
     "name": "stderr",
     "output_type": "stream",
     "text": [
      "ic| outputs.last_hidden_state.shape: torch.Size([1, 8, 768])\n"
     ]
    },
    {
     "data": {
      "text/plain": [
       "torch.Size([1, 8, 768])"
      ]
     },
     "execution_count": 21,
     "metadata": {},
     "output_type": "execute_result"
    }
   ],
   "source": [
    "ic(outputs.last_hidden_state.shape)"
   ]
  },
  {
   "cell_type": "code",
   "execution_count": 81,
   "metadata": {},
   "outputs": [
    {
     "name": "stderr",
     "output_type": "stream",
     "text": [
      "Some weights of AlbertForPreTraining were not initialized from the model checkpoint at albert-base-v2 and are newly initialized: ['sop_classifier.classifier.bias', 'sop_classifier.classifier.weight']\n",
      "You should probably TRAIN this model on a down-stream task to be able to use it for predictions and inference.\n",
      "ic| len(choice.input_ids[0,1:-1]): 7\n",
      "ic| tokenizer.decode(choice.input_ids[0]): '[CLS] (a). very inaccurate[SEP]'\n",
      "ic| tokenizer.decode(choice.input_ids[0][1:-1]): '(a). very inaccurate'\n",
      "ic| inputs: {'attention_mask': tensor([[1, 1, 1, 1, 1, 1, 1, 1, 1, 1, 1, 1, 1, 1, 1]]),\n",
      "             'input_ids': tensor([[    2, 10975, 10975,   126,     9,  1623,    45,    13,     5,    58,\n",
      "                         6,     9, 10975,   187,     3]]),\n",
      "             'token_type_ids': tensor([[0, 0, 0, 0, 0, 0, 0, 0, 0, 0, 0, 0, 0, 0, 0]])}\n",
      "ic| inputs.input_ids.shape: torch.Size([1, 15])\n",
      "ic| tokenizer.decode(inputs.input_ids[0][-8:-1]): '(a). hello!'\n"
     ]
    }
   ],
   "source": [
    "from transformers import AutoTokenizer, RobertaForCausalLM, AutoConfig, AlbertForPreTraining\n",
    "import torch\n",
    "\n",
    "# tokenizer = AutoTokenizer.from_pretrained(\"bert-base-uncased\")\n",
    "# tokenizer = AutoTokenizer.from_pretrained(\"roberta-base\")\n",
    "tokenizer = AutoTokenizer.from_pretrained(\"albert-base-v2\")\n",
    "# config = AutoConfig.from_pretrained(\"roberta-base\")\n",
    "# config.is_decoder = False\n",
    "# config.is_decoder=True\n",
    "\n",
    "# model = BertLMHeadModel.from_pretrained(\"bert-base-uncased\")\n",
    "# model = RobertaForCausalLM.from_pretrained(\"roberta-base\")\n",
    "model = AlbertForPreTraining.from_pretrained(\"albert-base-v2\")\n",
    "\n",
    "inputs = tokenizer(\"Hello Hello World.\\nAnswer: (A). Hello!\", return_tensors=\"pt\")\n",
    "choice = tokenizer(\"(A). Very Inaccurate\", return_tensors='pt')\n",
    "ic(len(choice.input_ids[0,1:-1]))\n",
    "ic(tokenizer.decode(choice.input_ids[0]))\n",
    "ic(tokenizer.decode(choice.input_ids[0][1:-1]))\n",
    "# inputs = tokenizer(\"Hello, my dog is cute, I love dog\", return_tensors=\"pt\")\n",
    "ic(inputs)\n",
    "ic(inputs.input_ids.shape)\n",
    "ic(tokenizer.decode(inputs.input_ids[0][-8:-1]))\n",
    "outputs = model(**inputs)\n",
    "# prediction_logits = outputs.logits\n",
    "prediction_logits = outputs.prediction_logits"
   ]
  },
  {
   "cell_type": "code",
   "execution_count": null,
   "metadata": {},
   "outputs": [],
   "source": [
    "for item in inputs.input_ids[0]:\n",
    "    ic(tokenizer.decode(item))"
   ]
  },
  {
   "cell_type": "code",
   "execution_count": 79,
   "metadata": {},
   "outputs": [
    {
     "name": "stderr",
     "output_type": "stream",
     "text": [
      "ic| prediction_logits.squeeze().shape: torch.Size([15, 30000])\n",
      "ic| inputs.input_ids[0].shape: torch.Size([15])\n",
      "ic| prob.shape: torch.Size([15, 30000])\n",
      "ic| masked_prob.shape: torch.Size([15])\n",
      "ic| masked_prob: tensor([4.7897e-09, 9.9919e-01, 9.8371e-01, 6.8068e-01, 9.4952e-01, 9.9545e-01,\n",
      "                         9.9918e-01, 8.3858e-01, 1.0000e+00, 9.6725e-01, 9.9983e-01, 9.3254e-01,\n",
      "                         9.4908e-01, 6.5884e-01, 3.2223e-04], grad_fn=<IndexBackward0>)\n",
      "ic| idx: tensor([  187, 10975, 10975,   126,     9,  1623,    45,    13,     5,    58,\n",
      "                     6,     9, 10975,   187,   154])\n",
      "ic| tokenizer.decode(idx): '! hello hello world. answer: (a). hello! your'\n"
     ]
    },
    {
     "data": {
      "text/plain": [
       "'! hello hello world. answer: (a). hello! your'"
      ]
     },
     "execution_count": 79,
     "metadata": {},
     "output_type": "execute_result"
    }
   ],
   "source": [
    "ic(prediction_logits.squeeze().shape)\n",
    "ic(inputs.input_ids[0].shape)\n",
    "prob = torch.softmax(prediction_logits.squeeze(), dim=-1)\n",
    "ic(prob.shape)\n",
    "masked_prob = prob[np.arange(inputs.input_ids[0].shape[0]), inputs.input_ids[0]]\n",
    "ic(masked_prob.shape)\n",
    "ic(masked_prob)\n",
    "idx = torch.max(prob, dim=-1)[1]\n",
    "ic(idx)\n",
    "ic(tokenizer.decode(idx))"
   ]
  },
  {
   "cell_type": "code",
   "execution_count": 30,
   "metadata": {},
   "outputs": [
    {
     "name": "stderr",
     "output_type": "stream",
     "text": [
      "ic| eg.shape: torch.Size([50265])\n",
      "ic| tokenizer.decode([idx]): 'Hello'\n"
     ]
    },
    {
     "data": {
      "text/plain": [
       "'Hello'"
      ]
     },
     "execution_count": 30,
     "metadata": {},
     "output_type": "execute_result"
    },
    {
     "data": {
      "image/png": "[encoded data removed]",
      "text/plain": [
       "<Figure size 432x288 with 1 Axes>"
      ]
     },
     "metadata": {
      "needs_background": "light"
     },
     "output_type": "display_data"
    }
   ],
   "source": [
    "eg = prob[1]\n",
    "ic(eg.shape)\n",
    "plt.plot(np.arange(len(eg)), eg.detach().cpu())\n",
    "idx = torch.argmax(eg)\n",
    "ic(tokenizer.decode([idx]))"
   ]
  },
  {
   "cell_type": "markdown",
   "metadata": {},
   "source": [
    "### GPT (Constraint)"
   ]
  },
  {
   "cell_type": "code",
   "execution_count": 32,
   "metadata": {},
   "outputs": [],
   "source": [
    "from transformers import OpenAIGPTTokenizer, OpenAIGPTLMHeadModel\n",
    "from transformers import GPT2Tokenizer, GPT2LMHeadModel\n",
    "import numpy as np\n",
    "from icecream import ic\n",
    "import torch"
   ]
  },
  {
   "cell_type": "code",
   "execution_count": 46,
   "metadata": {},
   "outputs": [
    {
     "name": "stderr",
     "output_type": "stream",
     "text": [
      "ic| len(choice.input_ids[0,:]): 7\n",
      "ic| tokenizer.decode(choice.input_ids[0]): '(A). Very Inaccurate'\n",
      "ic| tokenizer.decode(choice.input_ids[0]): '(A). Very Inaccurate'\n",
      "ic| inputs: {'attention_mask': tensor([[1, 1, 1, 1, 1, 1, 1, 1, 1, 1, 1, 1, 1, 1]]),\n",
      "             'input_ids': tensor([[15496, 18435,  2159,    13,   198, 33706,    25,   357,    32,   737,\n",
      "                      9576,   554,  4134, 15537]])}\n",
      "ic| tokenizer.decode(inputs.input_ids[0][-7:]): ' (A). Very Inaccurate'\n",
      "ic| prediction_logits.shape: torch.Size([1, 14, 50257])\n"
     ]
    },
    {
     "data": {
      "text/plain": [
       "torch.Size([1, 14, 50257])"
      ]
     },
     "execution_count": 46,
     "metadata": {},
     "output_type": "execute_result"
    }
   ],
   "source": [
    "tokenizer = GPT2Tokenizer.from_pretrained('gpt2')\n",
    "model = GPT2LMHeadModel.from_pretrained('gpt2')\n",
    "inputs = tokenizer(\"Hello Hello World.\\nAnswer: (A). Very Inaccurate\", return_tensors=\"pt\")\n",
    "choice = tokenizer(\"(A). Very Inaccurate\", return_tensors='pt')\n",
    "ic(len(choice.input_ids[0,:]))\n",
    "ic(tokenizer.decode(choice.input_ids[0]))\n",
    "ic(tokenizer.decode(choice.input_ids[0]))\n",
    "# inputs = tokenizer(\"Hello, my dog is cute, I love dog\", return_tensors=\"pt\")\n",
    "ic(inputs)\n",
    "ic(tokenizer.decode(inputs.input_ids[0][-7:]))\n",
    "outputs = model(**inputs, labels=inputs.input_ids)\n",
    "\n",
    "prediction_logits = outputs.logits\n",
    "ic(prediction_logits.shape)"
   ]
  },
  {
   "cell_type": "code",
   "execution_count": 47,
   "metadata": {},
   "outputs": [
    {
     "name": "stderr",
     "output_type": "stream",
     "text": [
      "ic| probs.shape: torch.Size([1, 14, 50257])\n"
     ]
    },
    {
     "data": {
      "text/plain": [
       "torch.Size([1, 14, 50257])"
      ]
     },
     "execution_count": 47,
     "metadata": {},
     "output_type": "execute_result"
    }
   ],
   "source": [
    "probs = torch.softmax(prediction_logits, dim=-1)\n",
    "ic(probs.shape)"
   ]
  },
  {
   "cell_type": "code",
   "execution_count": 49,
   "metadata": {},
   "outputs": [
    {
     "name": "stderr",
     "output_type": "stream",
     "text": [
      "ic| eg.shape: torch.Size([50257])\n"
     ]
    },
    {
     "name": "stdout",
     "output_type": "stream",
     "text": [
      "Hello Hello World.\n",
      "Answer: (A). Very Inaccurate\n"
     ]
    },
    {
     "name": "stderr",
     "output_type": "stream",
     "text": [
      "ic| idx: tensor(11)\n",
      "ic| tokenizer.decode([idx]): ','\n"
     ]
    },
    {
     "data": {
      "text/plain": [
       "','"
      ]
     },
     "execution_count": 49,
     "metadata": {},
     "output_type": "execute_result"
    },
    {
     "data": {
      "image/png": "[encoded data removed]",
      "text/plain": [
       "<Figure size 432x288 with 1 Axes>"
      ]
     },
     "metadata": {
      "needs_background": "light"
     },
     "output_type": "display_data"
    }
   ],
   "source": [
    "from matplotlib import pyplot as plt\n",
    "print(\"Hello Hello World.\\nAnswer: (A). Very Inaccurate\")\n",
    "eg = probs[0][0]\n",
    "ic(eg.shape)\n",
    "plt.plot(np.arange(len(eg)), eg.detach().cpu())\n",
    "idx = torch.argmax(eg)\n",
    "ic(idx)\n",
    "ic(tokenizer.decode([idx]))"
   ]
  },
  {
   "cell_type": "code",
   "execution_count": 61,
   "metadata": {},
   "outputs": [
    {
     "name": "stderr",
     "output_type": "stream",
     "text": [
      "ic| -loss: tensor(-3.9902, grad_fn=<NegBackward0>)\n",
      "ic| logits.shape: torch.Size([1, 6, 50257])\n"
     ]
    },
    {
     "data": {
      "text/plain": [
       "torch.Size([1, 6, 50257])"
      ]
     },
     "execution_count": 61,
     "metadata": {},
     "output_type": "execute_result"
    }
   ],
   "source": [
    "import torch\n",
    "from transformers import AutoTokenizer, GPT2LMHeadModel\n",
    "\n",
    "tokenizer = AutoTokenizer.from_pretrained(\"gpt2\")\n",
    "model = GPT2LMHeadModel.from_pretrained(\"gpt2\")\n",
    "\n",
    "inputs = tokenizer(\"Hello, my dog is cute\", return_tensors=\"pt\")\n",
    "outputs = model(**inputs, labels=inputs[\"input_ids\"])\n",
    "loss = outputs.loss\n",
    "logits = outputs.logits\n",
    "ic(-loss)\n",
    "ic(logits.shape)"
   ]
  },
  {
   "cell_type": "code",
   "execution_count": 67,
   "metadata": {},
   "outputs": [
    {
     "name": "stderr",
     "output_type": "stream",
     "text": [
      "ic| logits.shape: torch.Size([1, 6, 50257])\n",
      "ic| probs.shape: torch.Size([6])\n",
      "ic| torch.sum(torch.log(probs)): tensor(-53.3722, grad_fn=<SumBackward0>)\n",
      "ic| idxs: tensor([  11,  314, 1438,  318,  257,   13])\n"
     ]
    },
    {
     "name": "stdout",
     "output_type": "stream",
     "text": [
      ", I name is a.\n",
      "Hello, my dog is cute\n"
     ]
    }
   ],
   "source": [
    "ic(logits.shape)\n",
    "idxs = torch.argmax(logits.squeeze(), dim=-1)\n",
    "probs = torch.softmax(logits.squeeze(), dim=-1)[np.arange(6), inputs.input_ids[0]]\n",
    "ic(probs.shape)\n",
    "ic(torch.sum(torch.log(probs)))\n",
    "ic(idxs)\n",
    "print(tokenizer.decode(idxs))\n",
    "print(tokenizer.decode(inputs.input_ids[0]))"
   ]
  },
  {
   "cell_type": "markdown",
   "metadata": {},
   "source": [
    "### GPT (Open Vocab)"
   ]
  },
  {
   "cell_type": "markdown",
   "metadata": {},
   "source": [
    "#### GPT-2"
   ]
  },
  {
   "cell_type": "code",
   "execution_count": 7,
   "metadata": {},
   "outputs": [
    {
     "name": "stdout",
     "output_type": "stream",
     "text": [
      "Given a statement of you: \"You worry about things.\"\n",
      "Please choose from the following options to identify how accurately this statement describes you.\n",
      "Options: \n",
      "Very Accurate \n",
      "Moderately Accurate \n",
      "Neither Accurate Nor Inaccurate \n",
      "Moderately Inaccurate \n",
      "Very Inaccurate \n",
      "\n",
      "Answers: \n",
      "\n",
      "Very Accurate\n",
      "\n",
      "Moderately\n",
      "83\n"
     ]
    }
   ],
   "source": [
    "from Model.language_model import *\n",
    "from Model.template import *\n",
    "# version = 'gpt2'\n",
    "version = 'gpt2-large'\n",
    "tokenizer = TOKENIZER['GPT2'].from_pretrained(version)\n",
    "model = MODEL['GPT2'].from_pretrained(version, pad_token_id=tokenizer.eos_token_id)\n",
    "with torch.no_grad():\n",
    "    # Text completion\n",
    "    item = \"worry about things\"\n",
    "    eg_q = MPI_TEMPLATE.format(item=item) + ordered_lst_to_str(MPI_DESC)\n",
    "    # # print(eg_q)\n",
    "    inputs = tokenizer(eg_q, return_tensors='pt')\n",
    "    input_ids = inputs.input_ids\n",
    "    response = model.generate(input_ids, do_sample=True, top_p=0.95, temperature=0.1,\n",
    "                                    num_return_sequences=1, early_stopping=True, max_new_tokens=10)\n",
    "    output = tokenizer.decode(response[0])\n",
    "print(output)\n",
    "print(len(response[0]))"
   ]
  },
  {
   "cell_type": "markdown",
   "metadata": {},
   "source": [
    "#### GPT-3"
   ]
  },
  {
   "cell_type": "code",
   "execution_count": 16,
   "metadata": {},
   "outputs": [],
   "source": [
    "import openai\n",
    "from util.utils import *\n",
    "from icecream import ic\n",
    "set_seed(2023)\n",
    "# Make sure to redirect to the correct path\n",
    "# I don't know why but it shows that Kiyan's api key is not correct.\n",
    "# openai.api_key = read_api_key(\"../../\", 'kiyan')\n",
    "openai.api_key = read_api_key(\"../../\", 'xysong')\n",
    "# eg_q = \"Please use a word to describe yourself.\"\n",
    "item = \"worry about things\"\n",
    "eg_q = MPI_TEMPLATE.format(item=item) + ordered_lst_to_str(MPI_DESC)\n",
    "response = openai.Completion.create(engine=\"text-davinci-002\", prompt=eg_q, temperature=0.1, max_tokens=100, top_p=0.95, logprobs=1)\n",
    "# print(response['choices'][0]['text'])\n",
    "# print(response)"
   ]
  },
  {
   "cell_type": "code",
   "execution_count": null,
   "metadata": {},
   "outputs": [],
   "source": [
    "response"
   ]
  },
  {
   "cell_type": "code",
   "execution_count": 9,
   "metadata": {},
   "outputs": [
    {
     "name": "stdout",
     "output_type": "stream",
     "text": [
      "Given a statement of you: \"You worry about things.\"\n",
      "Please choose from the following options to identify how accurately this statement describes you.\n",
      "Options: \n",
      "Very Accurate \n",
      "Moderately Accurate \n",
      "Neither Accurate Nor Inaccurate \n",
      "Moderately Inaccurate \n",
      "Very Inaccurate \n",
      "\n",
      "Answers: \n"
     ]
    }
   ],
   "source": [
    "from Model.language_model import *\n",
    "from Model.template import *\n",
    "item = \"worry about things\"\n",
    "eg_q = MPI_TEMPLATE.format(item=item) + ordered_lst_to_str(MPI_DESC)\n",
    "print(eg_q)"
   ]
  }
 ],
 "metadata": {
  "interpreter": {
   "hash": "aee8b7b246df8f9039afb4144a1f6fd8d2ca17a180786b69acc140d282b71a49"
  },
  "kernelspec": {
   "display_name": "Python 3 (ipykernel)",
   "language": "python",
   "name": "python3"
  },
  "language_info": {
   "codemirror_mode": {
    "name": "ipython",
    "version": 3
   },
   "file_extension": ".py",
   "mimetype": "text/x-python",
   "name": "python",
   "nbconvert_exporter": "python",
   "pygments_lexer": "ipython3",
   "version": "3.9.7"
  }
 },
 "nbformat": 4,
 "nbformat_minor": 2
}
